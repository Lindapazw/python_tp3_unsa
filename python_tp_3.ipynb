{
  "cells": [
    {
      "cell_type": "markdown",
      "metadata": {
        "id": "view-in-github",
        "colab_type": "text"
      },
      "source": [
        "<a href=\"https://colab.research.google.com/github/Lindapazw/python_tp3_unsa/blob/main/python_tp_3.ipynb\" target=\"_parent\"><img src=\"https://colab.research.google.com/assets/colab-badge.svg\" alt=\"Open In Colab\"/></a>"
      ]
    },
    {
      "cell_type": "markdown",
      "metadata": {
        "id": "LXo9GSH9ZG4Q"
      },
      "source": [
        "![](https://i.postimg.cc/VNz3fyzj/chrome-TWVLMz2sfg.png)"
      ]
    },
    {
      "cell_type": "markdown",
      "metadata": {
        "id": "dnIU4AqjZdXh"
      },
      "source": [
        "##Temas: Tipos de Datos simples. Variables. Entrada y Salida de datos por consola \n"
      ]
    },
    {
      "cell_type": "markdown",
      "metadata": {
        "id": "jPc9QcaYZ1o6"
      },
      "source": [
        "## Ejercicio Nro 1\n",
        "Determinar el tipo de dato de las siguientes variables (doble clic para editar la tabla y completar los campos):\n",
        "\n",
        "| | Variable | Valor | Tipo de dato | Tipo de dato en Python |\n",
        "| --- | --- | ---| --- | --- |\n",
        "1 | a | 5 | Entero | int\n",
        "2 | edad | 25 | Entero | int \n",
        "3 | monto | 29.9 | Real | float\n",
        "4 | mensaje | \"Ingrese un número\" | mensaje | string \n",
        "5 | cont_positivos | 10 | entero | int\n",
        "6 | respuesta | \"sí\" | Cadena | string\n",
        "7 | letra | 2.5 | real | float\n",
        "8 | N | 3 | entero | int \n",
        "9 | i | 's' | cadena | string\n",
        "10| x | '@' | cadena | string\n",
        "11| promedio | 7.5 | real | float\n",
        "12| bandera | False | booleano | bool\n",
        "13| nombre | \"cristian\" | cadena | string \n",
        "14| f | -8 | entero | int\n",
        "15| numero | True | booleano | bool\n",
        "16| vocal | 'a' | cadena | string\n",
        "17| num | true | error | error"
      ]
    },
    {
      "cell_type": "markdown",
      "metadata": {
        "id": "JdcF7wACZFkh"
      },
      "source": [
        "## Ejercicio Nro 2\n",
        "Realizar un programa donde se declare 2 variables enteras, 2 reales, 2 del tipo cadena y 1 del tipo booleano. Mostrar por consola cada variable.\n"
      ]
    },
    {
      "cell_type": "code",
      "source": [
        "# Añadimos enteros\n",
        "año = int(input(\"¿Que año es? \"))\n",
        "edad = int(input(\"¿Cuantos años tienes? \"))\n",
        "\n",
        "# Añadimos reales/flotantes\n",
        "peso = float(input(\"¿Cual es tu peso? \"))\n",
        "calificacion = float(input(\"¿Cual es tu calificacion? \"))\n",
        "\n",
        "# Añadimos cadenas\n",
        "bienvenida = input(\"Escribe tu cartel de bienvenida \")\n",
        "nombre = input(\"Escribe tu nombre \")\n",
        "\n",
        "# Añadimos booleanos\n",
        "casado = False\n",
        "\n",
        "# Imprimo por pantalla \n",
        "\n",
        "print(f\"{bienvenida}, {nombre}, estas en el año {año}, tus datos son: {edad} años, {peso} kilos. \")"
      ],
      "metadata": {
        "id": "_KXaUQmChjBD",
        "colab": {
          "base_uri": "https://localhost:8080/"
        },
        "outputId": "358fda2b-789c-4665-ecbd-b2add5872897"
      },
      "execution_count": 6,
      "outputs": [
        {
          "output_type": "stream",
          "name": "stdout",
          "text": [
            "¿Que año es? 2023\n",
            "¿Cuantos años tienes? 23\n",
            "¿Cual es tu peso? 50.30\n",
            "¿Cual es tu calificacion? 8.5\n",
            "Escribe tu cartel de bienvenida bienvenida pequeña\n",
            "Escribe tu nombre Linda Candela\n",
            "bienvenida pequeña, Linda Candela, estas en el año 2023, tus datos son: 23 años, 50.3 peso.\n"
          ]
        }
      ]
    },
    {
      "cell_type": "markdown",
      "metadata": {
        "id": "lPyzjY6P3EIo"
      },
      "source": [
        "## Ejercicio Nro 3\n",
        "\n",
        "Ingresar una frase por consola y mostrar por pantalla. Agregar el siguiente comentario al código (\"Este es mi primer comentario\").\n"
      ]
    },
    {
      "cell_type": "code",
      "source": [
        "frase = input(\"Escribe una frase: \")\n",
        "comentario = \"Este es mi primer comentario\"\n",
        "\n",
        "print(f\"La frase es '{frase}' y a eso le añadimos: '{comentario}'\")"
      ],
      "metadata": {
        "id": "GWFgjW0Phjft",
        "colab": {
          "base_uri": "https://localhost:8080/"
        },
        "outputId": "d5555d0b-da74-4dfd-ca7c-3ac51fa4dd8e"
      },
      "execution_count": 8,
      "outputs": [
        {
          "output_type": "stream",
          "name": "stdout",
          "text": [
            "Escribe una frase: Hola mami\n",
            "La frase es 'Hola mami' y a eso le añadimos: 'Este es mi primer comentario'\n"
          ]
        }
      ]
    },
    {
      "cell_type": "markdown",
      "metadata": {
        "id": "a90PdqmFwrov"
      },
      "source": [
        "## Ejercicio Nro 4\n",
        "Escribir un programa que pregunte el nombre del usuario y edad e imprima por pantalla el nombre y la edad."
      ]
    },
    {
      "cell_type": "code",
      "source": [
        "nombre = input(\"Escribe tu nombre: \")\n",
        "edad = input(\"Escribe tu edad: \")\n",
        "\n",
        "print(f\"Tu nombre es: {nombre} y tu edad es: {edad}\")"
      ],
      "metadata": {
        "id": "XWp5vn2OhkCd",
        "colab": {
          "base_uri": "https://localhost:8080/"
        },
        "outputId": "e8ebfdb9-20f1-4d4e-c7a6-2ea5b5129d57"
      },
      "execution_count": 10,
      "outputs": [
        {
          "output_type": "stream",
          "name": "stdout",
          "text": [
            "Escribe tu nombre: Linda\n",
            "Escribe tu edad: 23\n",
            "Tu nombre es: Linda y tu edad es: 23\n"
          ]
        }
      ]
    },
    {
      "cell_type": "markdown",
      "metadata": {
        "id": "eayzOn6d2_ny"
      },
      "source": [
        "## Ejercicio Nro 5\n",
        "Usando **f-string** mostrar las siguientes  frases:\n",
        "\n",
        "*   “3 tristes tigres comen trigo en un trigal”\n",
        "*   “El número pi es 3.14159265359” (mostrar con 4 dígitos)\n",
        "\n",
        "Se deben usar las siguientes variables para armar la frases:\n",
        "\n",
        "*   a = 3\n",
        "*   frase = “trigo en un trigal”\n",
        "*   pi =  3.14159265359\n",
        "\n",
        "\n"
      ]
    },
    {
      "cell_type": "code",
      "source": [
        "a = 3\n",
        "frase = \"trigo en un trigal\"\n",
        "pi = 3.14159265359\n",
        "\n",
        "print(f\"{a} tristes tigres comen {frase}\")\n",
        "print(f\"El número pi es {pi:.4f}\")"
      ],
      "metadata": {
        "id": "CFdHL5ythklH",
        "colab": {
          "base_uri": "https://localhost:8080/"
        },
        "outputId": "e937b266-0e07-4fb2-ff03-5e0623b8f899"
      },
      "execution_count": 13,
      "outputs": [
        {
          "output_type": "stream",
          "name": "stdout",
          "text": [
            "3 tristes tigres comen trigo en un trigal\n",
            "El número pi es 3.1416\n"
          ]
        }
      ]
    },
    {
      "cell_type": "markdown",
      "source": [
        "## Ejercicio Nro 6\n",
        "Usando **f-string** trabaja en el siguiente ejercicio:\n",
        "\n",
        "Se debe calcular el área de un círculo, se pide como entrada de datos el radio del círculo. La fórmula a usar es `pi * radio ** 2`. Usar el valor de pi que se da a continuación. Mostrar solo 2 dígitos en el resultado del área del círculo. \n",
        "*   pi =  3.14159265\n"
      ],
      "metadata": {
        "id": "Np69ANQ5kaw5"
      }
    },
    {
      "cell_type": "code",
      "source": [
        "pi = 3.14159265\n",
        "radio = int(input(\"Escribe el radio: \"))\n",
        "calculo = pi * radio ** 2\n",
        "\n",
        "print(f\"El resultado es: {calculo:.2f}\")"
      ],
      "metadata": {
        "id": "RohF32jilnUP",
        "colab": {
          "base_uri": "https://localhost:8080/"
        },
        "outputId": "bfbf17aa-c2a5-43ec-c8a5-677145f95f51"
      },
      "execution_count": 15,
      "outputs": [
        {
          "output_type": "stream",
          "name": "stdout",
          "text": [
            "Escribe el radio: 1\n",
            "El resultado es: 3.14\n"
          ]
        }
      ]
    },
    {
      "cell_type": "markdown",
      "metadata": {
        "id": "UWUPOC_o2_h6"
      },
      "source": [
        "## Ejercicio Nro 7\n",
        "Cambiar el tipo de las siguientes variables:\n",
        "\n",
        "a = ‘5’ a entero\n",
        "\n",
        "b = 10.52 a entero\n",
        "\n",
        "c = ‘5.30’ a float\n",
        "\n",
        "d = 10 a cadena de texto\n",
        "\n",
        "e = 'True' a bool\n",
        "\n",
        "y mostrar por pantalla. Usar la función definida en Python **type** para comprobar la conversión\n",
        "\n",
        "\n",
        "\n",
        "```\n",
        "type(<variable>) #te devuelve el tipo de la variable\n",
        "\n",
        "a = 5\n",
        "type(a) => Devolvera \"<class 'int'>\"\n",
        "```"
      ]
    },
    {
      "cell_type": "code",
      "source": [
        "a = \"5\" \n",
        "b = 10.52 \n",
        "c = \"5.30\"\n",
        "d = 10 \n",
        "e = \"True\"\n",
        "\n",
        "a = int(a)\n",
        "b = int(b)\n",
        "c = float(c)\n",
        "d = str(d)\n",
        "e = bool(e)\n",
        "\n",
        "print(type(a), type(b), type(c), type(d), type(e))"
      ],
      "metadata": {
        "id": "p4BlbYvfpXFo",
        "colab": {
          "base_uri": "https://localhost:8080/"
        },
        "outputId": "75b7bd0e-bbca-4b2e-e205-df01172a024a"
      },
      "execution_count": 19,
      "outputs": [
        {
          "output_type": "stream",
          "name": "stdout",
          "text": [
            "<class 'int'> <class 'int'> <class 'float'> <class 'str'> <class 'bool'>\n"
          ]
        }
      ]
    },
    {
      "cell_type": "markdown",
      "metadata": {
        "id": "n7tgKTjfNkrf"
      },
      "source": [
        "## Ejercicio Nro 8\n",
        "\n",
        "Probar la concatenación de texto con las siguientes variables (aplicar conversión cuando sea necesario):\n",
        "\n",
        "\n",
        "a = 5; b = 10; c = “la suma de “; d = “ + ”;  e = “ es igual a 15”\n",
        "\n",
        "```py\n",
        "resultado = “la suma de 5 + 10 es igual a 15”\n",
        "```\n",
        "\n",
        "Mostrar la variable resultado."
      ]
    },
    {
      "cell_type": "code",
      "source": [
        "a = 5\n",
        "b = 10\n",
        "c = \"La suma de \"\n",
        "d = \"+\"\n",
        "e = \"es igual a 15\"\n",
        "\n",
        "print(f\"{c} {a} {d} {b} {e}\")"
      ],
      "metadata": {
        "id": "KUI3FyW6pWJL",
        "colab": {
          "base_uri": "https://localhost:8080/"
        },
        "outputId": "66b33a51-5bd4-4b09-b392-f03e454372a9"
      },
      "execution_count": 21,
      "outputs": [
        {
          "output_type": "stream",
          "name": "stdout",
          "text": [
            "La suma de  5 + 10 es igual a 15\n"
          ]
        }
      ]
    },
    {
      "cell_type": "markdown",
      "metadata": {
        "id": "mxVIOpOUSu4U"
      },
      "source": [
        "## Ejercicio Nro 9\n",
        "Realizar un programa donde se ingresen tres productos, para el primero debe ser una cantidad mayor que 1. Para todos los productos debe cargar el precio unitario. Luego, se creará una vista como en la imagen que sigue. Se calculará los subtotales según la cantidad del primer producto. Finalmente, se sumará el importe de los 3 productos para mostrar el total a pagar.\n",
        "\n",
        "![](https://i.postimg.cc/CLH3WLgF/Code-Wsqb4ujw-Bq.png)"
      ]
    },
    {
      "cell_type": "code",
      "source": [],
      "metadata": {
        "id": "eB9EDt60inao"
      },
      "execution_count": 2,
      "outputs": []
    }
  ],
  "metadata": {
    "colab": {
      "provenance": [],
      "include_colab_link": true
    },
    "kernelspec": {
      "display_name": "Python 3 (ipykernel)",
      "language": "python",
      "name": "python3"
    },
    "language_info": {
      "codemirror_mode": {
        "name": "ipython",
        "version": 3
      },
      "file_extension": ".py",
      "mimetype": "text/x-python",
      "name": "python",
      "nbconvert_exporter": "python",
      "pygments_lexer": "ipython3",
      "version": "3.8.10"
    },
    "vscode": {
      "interpreter": {
        "hash": "6d850d8e90e60c3336e66e26b3917652b6d7c59c27178fa3ce4a1808cd55e75f"
      }
    }
  },
  "nbformat": 4,
  "nbformat_minor": 0
}